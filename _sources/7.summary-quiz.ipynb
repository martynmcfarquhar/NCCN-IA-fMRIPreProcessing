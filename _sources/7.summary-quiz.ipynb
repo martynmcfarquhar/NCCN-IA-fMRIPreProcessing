{
 "cells": [
  {
   "cell_type": "markdown",
   "id": "698d8f5a-944d-449a-a9b1-3799ac19aff4",
   "metadata": {},
   "source": [
    "# Summary and Quiz\n",
    "\n",
    "We have now covered all the core pre-processing steps we need to get our fMRI data in a suitable state for statistical analysis. Once all the steps are complete then the pre-processing for this subject is complete. If this were a study with multiple subjects, you would then need to repeat all of these steps for all the functional data from every subject. Later in the course we will see how we can use MATLAB scripting to automate this process. For now, it is instructive to run these steps manually to make sure you understand them and understand all the files that SPM produces. In the coming weeks, we will be exploring what we do with the pre-processed data to try and reach conclusions about the effect of our experimental manipulations on brain activation. For now, try and get familiar with the pre-processing steps and, in particular, why we perform the steps as well as *how* to perform the steps using SPM.\n",
    "\n",
    "## Quiz\n",
    "\n",
    "Use the quiz below to test your understanding from this lesson."
   ]
  },
  {
   "cell_type": "markdown",
   "id": "be9316a7-3c14-4282-8fd6-3a9418939e28",
   "metadata": {},
   "source": [
    "<iframe width=\"800px\" height=\"800px\" src=\"https://forms.office.com/Pages/ResponsePage.aspx?id=B8tSwU5hu0qBivA1z6kad9kpLkNdubNGu77CLsl9k_lUNktPNzBFRUVIVUVKWEE1VFRaRVBTUkZWWC4u&embed=true\" frameborder=\"0\" marginwidth=\"0\" marginheight=\"0\" style=\"border: none; max-width:100%; max-height:100vh\" allowfullscreen webkitallowfullscreen mozallowfullscreen msallowfullscreen> </iframe>"
   ]
  }
 ],
 "metadata": {
  "kernelspec": {
   "display_name": "MATLAB Kernel",
   "language": "matlab",
   "name": "jupyter_matlab_kernel"
  },
  "language_info": {
   "file_extension": ".m",
   "mimetype": "text/x-matlab",
   "name": "matlab"
  }
 },
 "nbformat": 4,
 "nbformat_minor": 5
}
