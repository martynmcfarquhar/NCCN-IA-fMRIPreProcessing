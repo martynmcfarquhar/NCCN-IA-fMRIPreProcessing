{
 "cells": [
  {
   "cell_type": "markdown",
   "id": "131980cf-e9e0-47fa-b76b-cc95da6596b3",
   "metadata": {},
   "source": [
    "# Running Preprocessing Using MATLAB Code\n",
    "\n",
    "This section is therefore advanced material that you can come back to later\n",
    "\n",
    "## Motion Correction"
   ]
  },
  {
   "cell_type": "code",
   "execution_count": null,
   "id": "1392793f-cada-4034-8599-e19033681ca5",
   "metadata": {
    "tags": []
   },
   "outputs": [],
   "source": [
    "% Clear ...\n",
    "\n",
    "flags = \n",
    "\n",
    "spm_realign(P,flags);"
   ]
  },
  {
   "cell_type": "code",
   "execution_count": null,
   "id": "7f9729a7-81d6-4619-a298-e198bf411bf3",
   "metadata": {},
   "outputs": [],
   "source": []
  }
 ],
 "metadata": {
  "kernelspec": {
   "display_name": "MATLAB Kernel",
   "language": "matlab",
   "name": "jupyter_matlab_kernel"
  },
  "language_info": {
   "file_extension": ".m",
   "mimetype": "text/x-matlab",
   "name": "matlab"
  }
 },
 "nbformat": 4,
 "nbformat_minor": 5
}
