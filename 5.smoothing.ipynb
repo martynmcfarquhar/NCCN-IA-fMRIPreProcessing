{
 "cells": [
  {
   "cell_type": "markdown",
   "id": "f3a6c86b-9688-496b-b6a5-2624099e31dc",
   "metadata": {},
   "source": [
    "# Step 4: Smoothing\n",
    "\n",
    "The final step in the standard fMRI pre-processing pipeline is to smooth the realigned, motion-corrected and normalised data, by convolving it with a Gaussian kernel. We already discussed smoothing as part of the image filtering material in Functional Neuroanatomy, so this section will be something of a review. However, it is worth taking some time to discuss why we want to smooth our functional data as, on the face of it, smoothing is a destructive step that takes already low-resolution data and makes it worse, as shown in {numref}`smooth-ex-fig`.\n",
    "\n",
    "```{figure} images/smoothing-example.png\n",
    "---\n",
    "width: 500px\n",
    "name: smooth-ex-fig\n",
    "---\n",
    "Illustration of the results of Gaussian smoothing,\n",
    "```\n",
    "\n",
    "## Why Smooth fMRI Data?\n",
    "\n",
    "If you think back to the image filtering topic from Functional Neuroanatomy, hopefully you recall that we can think of filters either in the spatial or frequency domain. In the spatial-domain, convolution of an image and a Gaussian kernel results in a form of weighted-averaging of neighbouring voxels. In the frequency-domain, a Gaussian kernel corresponds to a low-pass filter, removing high-frequency information from the image. Both of these perspectives allow insight into one of the main reasons for filtering, which is to improve the signal-to-noise ratio in the image. In the spatial domain, we can think of this in terms of small changes from voxel-to-voxel canceling out, as some of these changes will be increases and some will be decreases. These small-scale changes are effectively removed by smoothing, whereas larger-scale changes that are consistent across voxels will remain. The idea here is that noise will tend to change from voxel-to-voxel, whereas true signal should remain relatively stable across multiple voxels. Smoothing should help reduce this noise and make the true signal easier to detect.\n",
    "\n",
    "This idea is illustrated in {numref}`smooth-spatial-fig`. The top plot shows the spatial signal taken from a single row of a single slice of an image. We can see that there is a general shape to this signal, but also plenty of small lumps and bumps along the way. Our assumption is that this general shape is the true signal we are interested in, and that the little lumps and bumps are noise. After smoothing the image we can see the shape of the same spatial signal in the bottom plot, showing how the general shape of the signal is the same but all the little lumps and bumps have disappeared. As such, we have reduced the noise in favour of the true signal.\n",
    "\n",
    "```{figure} images/smooth-noise.png\n",
    "---\n",
    "width: 700px\n",
    "name: smooth-spatial-fig\n",
    "---\n",
    "Illustration of how smoothing changes the spatial signal of an image.\n",
    "```\n",
    "\n",
    "We can make a connection here with the frequency-domain view of filtering, as we are removing high-frequency information from the image. This high-frequency information corresponds to fast changes in the signal from voxel-to-voxel. Because we expect true activation to be spread across multiple voxels, any sudden changes in the signal from voxel-to-voxel more likely corresponds to noise. As such, if we remove this high-frequency information in favour of lower-frequency information then we should be removing noise and keeping the bits of the signal of interest. Again, you can see this by examining the before and after smoothing plots above.\n",
    "\n",
    "This idea of low-pass filtering an image also explains why smoothing has the visual effect that it does because detail in an image corresponds to higher-frequencies. Removing high-frequency information therefore removes detail from the image and thus makes it look blurry. This makes the boundaries of the anatomy of the brain harder to discern as they have been spread-out out in all directions. Although this may sound like a bad thing from a localisation perspective, it is actually an advantage for us here because this looser boundary definition helps overcome some of the limitations of normalisation. Because normalisation is never perfect, and is somewhat constrained by our use of regularisation, the anatomy of different subjects will never perfectly overlap even after normalisation. Because of this, regions of activation will also be slightly mismatched across subjects, which can affect the statistical analysis. By smoothing the data we end up evening-out some of this discrepancy so that regions of activation better overlap across subjects, despite the limitations of normalisation.\n",
    "\n",
    "As a final point, smoothing is also needed to meet some of the statistical assumptions we will be discussing in the coming weeks. We will not go into much detail for now, but when we come to discuss methods of multiple comparisons correction we will come across something known as Gaussian Random Field theory. This is the primary theoretical backbone of the correction technique that SPM uses to calculate results from the statistical analysis. In order for random field theory to be valid, there is an assumed level of smoothness in the data. To guarantee that this assumption is met, we can apply smoothing to an image. So this provides the third main justification for smoothing the fMRI images.\n",
    "\n",
    "## How Much to Smooth fMRI Data?\n",
    "\n",
    "Although smoothing is advantageous, we do have to be a bit careful. As already alluded to, smoothing can cause issues for the localisation of results because of the fact that boundaries become harder to discern as activation patterns are blurred across a wider area of the brain. This can mean activation in grey matter gets smeared into white matter, ventricles or even outside the brain. In addition, activation can appear larger than it was originally, and places where activation patterns are separate can get blurred into one another. This can give a false sense of the location and spatial extent of our findings, which of course we want to avoid. This is illustrated below in the figure from Poldrack, Mumford and Nichols (2011), where the effects of larger smoothing kernels becomes clear. The only caveat here is that smoothing more than 8mm is rare and so the 16mm and 32mm FWHM examples are just to illustrate what extreme smoothing can do. It is also worth noting that some of the differences in the figure below will be due to improved analysis sensitivity after reducing noise further with increased smoothing.\n",
    "\n",
    "```{figure} images/kernel-sizes.png\n",
    "---\n",
    "width: 800px\n",
    "name: smooth-size-fig\n",
    "---\n",
    "Illustration of the effects of smoothing on the activation patterns in fMRI results. Notice how the highlighted clusters grow in size, combine into a single cluster and then disappear as the smoothing kernel size increases.\n",
    "```\n",
    "\n",
    "So given the above caveats, how much should we smooth? Unfortunately, there is no simple answer to this. By default, SPM chooses a FWHM of 8mm and for most use cases this should be fine. You may wish to reduce the kernel size if you are focusing on small regions of the brain where the extent of the activation is expected to be below than 8mm. When doing so, a minimum of 2 times the voxel dimensions is recommended. Typically, for fMRI data, this will result in a kernel anywhere between 4mm and 8mm FWHM.\n",
    "\n",
    "## Smoothing Functional Data in SPM\n",
    "\n",
    "The video below will demonstrate how to smooth the realigned, slice-time corrected and normalised functional data, using SPM12.\n",
    "\n",
    "<div style=\"max-width: 1280px\"><div style=\"position: relative; padding-bottom: 56.25%; height: 0; overflow: hidden;\"><iframe src=\"https://livemanchesterac.sharepoint.com/sites/UOM-FBMH-MSc-NCCN/_layouts/15/embed.aspx?UniqueId=8bbcc80c-36fb-4cf4-96d4-ad5c0d79e832&embed=%7B%22hvm%22%3Atrue%2C%22ust%22%3Atrue%7D&referrer=StreamWebApp&referrerScenario=EmbedDialog.Create\" width=\"1280\" height=\"720\" frameborder=\"0\" scrolling=\"no\" allowfullscreen title=\"6.Smoothing.mov\" style=\"border:none; position: absolute; top: 0; left: 0; right: 0; bottom: 0; height: 100%; max-width: 100%;\"></iframe></div></div>"
   ]
  },
  {
   "cell_type": "code",
   "execution_count": null,
   "id": "b52232f7-1610-4f63-a4f9-19dafa4d91cb",
   "metadata": {},
   "outputs": [],
   "source": []
  }
 ],
 "metadata": {
  "kernelspec": {
   "display_name": "MATLAB Kernel",
   "language": "matlab",
   "name": "jupyter_matlab_kernel"
  },
  "language_info": {
   "file_extension": ".m",
   "mimetype": "text/x-matlab",
   "name": "matlab"
  }
 },
 "nbformat": 4,
 "nbformat_minor": 5
}
