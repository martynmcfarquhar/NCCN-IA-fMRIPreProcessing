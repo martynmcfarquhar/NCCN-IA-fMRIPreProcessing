{
 "cells": [
  {
   "cell_type": "markdown",
   "id": "0aff9971-428c-4632-8dcc-2451ce81b45b",
   "metadata": {
    "tags": []
   },
   "source": [
    "# Introduction\n",
    "\n",
    "This lesson is about the steps used to process fMRI data before it can be subjected to statistical analysis. Collectively, these steps are known as *preprocessing*. In this lesson, we will discuss all the major preprocessing steps, reviewing the theory of each and their practical implementation within SPM. At the end of the lesson, we will discuss some of the choices that need to be made when building a preprocessing pipeline for your own data.\n",
    "\n",
    "## Contents\n",
    "\n",
    "```{tableofcontents}\n",
    "```\n"
   ]
  },
  {
   "cell_type": "code",
   "execution_count": null,
   "id": "0c8f2030-28a7-4a21-b24d-494a9a96b6b4",
   "metadata": {},
   "outputs": [],
   "source": []
  }
 ],
 "metadata": {
  "kernelspec": {
   "display_name": "MATLAB Kernel",
   "language": "matlab",
   "name": "jupyter_matlab_kernel"
  },
  "language_info": {
   "file_extension": ".m",
   "mimetype": "text/x-matlab",
   "name": "matlab"
  }
 },
 "nbformat": 4,
 "nbformat_minor": 5
}
