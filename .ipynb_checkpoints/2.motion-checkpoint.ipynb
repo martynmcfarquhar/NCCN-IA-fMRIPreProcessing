{
 "cells": [
  {
   "cell_type": "markdown",
   "id": "4f2c68e8-6e0f-4c4a-a960-21041c6a2ba3",
   "metadata": {},
   "source": [
    "# Step 1: Motion Correction\n",
    "\n"
   ]
  }
 ],
 "metadata": {
  "kernelspec": {
   "display_name": "MATLAB Kernel",
   "language": "matlab",
   "name": "jupyter_matlab_kernel"
  },
  "language_info": {
   "file_extension": ".m",
   "mimetype": "text/x-matlab",
   "name": "matlab"
  }
 },
 "nbformat": 4,
 "nbformat_minor": 5
}
