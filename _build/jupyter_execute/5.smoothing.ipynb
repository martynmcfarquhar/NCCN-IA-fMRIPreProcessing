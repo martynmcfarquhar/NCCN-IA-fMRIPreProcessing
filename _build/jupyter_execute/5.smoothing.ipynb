{
 "cells": [
  {
   "cell_type": "markdown",
   "id": "f3a6c86b-9688-496b-b6a5-2624099e31dc",
   "metadata": {},
   "source": [
    "# Step 4: Smoothing"
   ]
  },
  {
   "cell_type": "code",
   "execution_count": null,
   "id": "b52232f7-1610-4f63-a4f9-19dafa4d91cb",
   "metadata": {},
   "outputs": [],
   "source": []
  }
 ],
 "metadata": {
  "kernelspec": {
   "display_name": "MATLAB Kernel",
   "language": "matlab",
   "name": "jupyter_matlab_kernel"
  },
  "language_info": {
   "file_extension": ".m",
   "mimetype": "text/x-matlab",
   "name": "matlab"
  }
 },
 "nbformat": 4,
 "nbformat_minor": 5
}