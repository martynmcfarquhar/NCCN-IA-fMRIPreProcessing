{
 "cells": [
  {
   "cell_type": "markdown",
   "id": "beb47bb5-928c-4d49-8129-94d630712424",
   "metadata": {},
   "source": [
    "# Step 3: Normalisation"
   ]
  },
  {
   "cell_type": "code",
   "execution_count": null,
   "id": "3e4e6443-74e3-4588-8a09-194e7e43d183",
   "metadata": {},
   "outputs": [],
   "source": []
  }
 ],
 "metadata": {
  "kernelspec": {
   "display_name": "MATLAB Kernel",
   "language": "matlab",
   "name": "jupyter_matlab_kernel"
  },
  "language_info": {
   "file_extension": ".m",
   "mimetype": "text/x-matlab",
   "name": "matlab"
  }
 },
 "nbformat": 4,
 "nbformat_minor": 5
}