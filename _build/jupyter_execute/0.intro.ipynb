{
 "cells": [
  {
   "cell_type": "markdown",
   "id": "0aff9971-428c-4632-8dcc-2451ce81b45b",
   "metadata": {
    "tags": []
   },
   "source": [
    "# Introduction\n",
    "\n",
    "This lesson is all about the steps we have to take to process our images before we can subject them to statistical analysis. These steps are known as pre-processing, and consist of several options for getting our raw fMRI data into suitable shape for analysis. In this lesson, we will go through all the major steps that are performed, discussing the theory of each, when you would use them and how they are implemented in SPM. At the end, we will discuss some of the choices you need to make about which steps to use as well as providing some guidance on what to do in different scenarios.\n",
    "\n",
    "## Contents\n",
    "\n",
    "```{tableofcontents}\n",
    "```\n"
   ]
  },
  {
   "cell_type": "code",
   "execution_count": null,
   "id": "0c8f2030-28a7-4a21-b24d-494a9a96b6b4",
   "metadata": {},
   "outputs": [],
   "source": []
  }
 ],
 "metadata": {
  "kernelspec": {
   "display_name": "MATLAB Kernel",
   "language": "matlab",
   "name": "jupyter_matlab_kernel"
  },
  "language_info": {
   "file_extension": ".m",
   "mimetype": "text/x-matlab",
   "name": "matlab"
  }
 },
 "nbformat": 4,
 "nbformat_minor": 5
}