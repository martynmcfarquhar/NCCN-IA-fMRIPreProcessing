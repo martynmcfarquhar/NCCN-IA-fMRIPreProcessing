{
 "cells": [
  {
   "cell_type": "markdown",
   "id": "698d8f5a-944d-449a-a9b1-3799ac19aff4",
   "metadata": {},
   "source": [
    "# Summary and Quiz"
   ]
  },
  {
   "cell_type": "markdown",
   "id": "5cc7edb4-86a6-4baf-be65-eef23a17a021",
   "metadata": {},
   "source": [
    "## Quiz\n",
    "\n",
    "Use the quiz below to test your knowledge of the content.\n",
    "\n",
    "<iframe width=\"640px\" height=\"480px\" src=\"https://forms.office.com/Pages/ResponsePage.aspx?id=B8tSwU5hu0qBivA1z6kad9kpLkNdubNGu77CLsl9k_lUMktUVTFUV1VMOERDWVdJSFNGU1pKM1k3Ti4u&embed=true\" frameborder=\"0\" marginwidth=\"0\" marginheight=\"0\" style=\"border: none; max-width:100%; max-height:100vh\" allowfullscreen webkitallowfullscreen mozallowfullscreen msallowfullscreen> </iframe>"
   ]
  },
  {
   "cell_type": "code",
   "execution_count": null,
   "id": "ef581041-4806-45af-9752-2614b21091f0",
   "metadata": {},
   "outputs": [],
   "source": []
  }
 ],
 "metadata": {
  "kernelspec": {
   "display_name": "MATLAB Kernel",
   "language": "matlab",
   "name": "jupyter_matlab_kernel"
  },
  "language_info": {
   "file_extension": ".m",
   "mimetype": "text/x-matlab",
   "name": "matlab"
  }
 },
 "nbformat": 4,
 "nbformat_minor": 5
}
